{
  "cells": [
    {
      "cell_type": "markdown",
      "metadata": {
        "id": "3-pIaJESorSW"
      },
      "source": [
        "# Token classification"
      ]
    },
    {
      "cell_type": "markdown",
      "metadata": {
        "id": "11yvx4L3orSZ"
      },
      "source": [
        "## Load Arabic_POS dataset"
      ]
    },
    {
      "cell_type": "markdown",
      "metadata": {
        "id": "F_RDqIy1orSa"
      },
      "source": [
        "Start by loading the arabic_POS dataset from the pyconll library:"
      ]
    },
    {
      "cell_type": "code",
      "source": [
        "import matplotlib.pyplot as plt\n",
        "import numpy as np\n",
        "import pyconll\n",
        "from datasets import Dataset, DatasetDict\n",
        "import random\n",
        "from transformers import AutoTokenizer\n",
        "from transformers import TFAutoModelForTokenClassification , DataCollatorForTokenClassification\n",
        "from sklearn.model_selection import train_test_split\n",
        "import evaluate\n",
        "import tensorflow as tf\n",
        "from transformers.keras_callbacks import KerasMetricCallback"
      ],
      "metadata": {
        "id": "kKrhrbvRHuRs"
      },
      "execution_count": 1,
      "outputs": []
    },
    {
      "cell_type": "code",
      "execution_count": 2,
      "metadata": {
        "id": "-_vNjazporSa"
      },
      "outputs": [],
      "source": [
        "df = pyconll.load_from_file(\"/content/Arabic_POS.conllu\")"
      ]
    },
    {
      "cell_type": "markdown",
      "metadata": {
        "id": "2K8cfLOLorSc"
      },
      "source": [
        "## Preprocess"
      ]
    },
    {
      "cell_type": "markdown",
      "source": [
        "A: Extract sentences and their corresponding UPOS tags"
      ],
      "metadata": {
        "id": "pvL5unQxQ4iW"
      }
    },
    {
      "cell_type": "code",
      "source": [
        "labels=[]\n",
        "sentences=[]\n",
        "\n",
        "for sentence in df:\n",
        "  tokens = [token.form for token in sentence]\n",
        "  pos = [token.upos for token in sentence]\n",
        "  sentences.append(tokens)\n",
        "  labels.append(pos)\n",
        "\n",
        "print(f'Sentences =  {len(sentences)}.')\n",
        "print(f'Labels =  {len(labels)}.')\n"
      ],
      "metadata": {
        "colab": {
          "base_uri": "https://localhost:8080/"
        },
        "id": "0Sbp9IiwxX0R",
        "outputId": "065afff7-a402-48a0-e822-d160600339c9"
      },
      "execution_count": 3,
      "outputs": [
        {
          "output_type": "stream",
          "name": "stdout",
          "text": [
            "Sentences =  6075.\n",
            "Labels =  6075.\n"
          ]
        }
      ]
    },
    {
      "cell_type": "code",
      "source": [
        "print(sentences[0])\n",
        "print(labels[0])"
      ],
      "metadata": {
        "colab": {
          "base_uri": "https://localhost:8080/"
        },
        "id": "AjlETMlk2fU_",
        "outputId": "b76eb8f8-b8a2-45e9-c8ef-3e0043289fb1"
      },
      "execution_count": 4,
      "outputs": [
        {
          "output_type": "stream",
          "name": "stdout",
          "text": [
            "['برلين', 'ترفض', 'حصول', 'شركة', 'اميركية', 'على', 'رخصة', 'تصنيع', 'دبابة', '\"', 'ليوبارد', '\"', 'الالمانية']\n",
            "['X', 'VERB', 'NOUN', 'NOUN', 'ADJ', 'ADP', 'NOUN', 'NOUN', 'NOUN', 'PUNCT', 'X', 'PUNCT', 'ADJ']\n"
          ]
        }
      ]
    },
    {
      "cell_type": "code",
      "source": [
        "seq_lengths = [len(seq) for seq in sentences]\n",
        "\n",
        "plt.figure(figsize=(10, 6))\n",
        "plt.hist(seq_lengths, bins=50, color='skyblue', edgecolor='black')\n",
        "plt.title(\"Distribution of sentences' Lengths (in tokens)\")\n",
        "plt.xlabel(\"Length of sentence\")\n",
        "plt.ylabel(\"Frequency\")\n",
        "plt.grid(True)\n",
        "plt.show()\n",
        "\n",
        "print(f\"Max length: {np.max(seq_lengths)}\")\n",
        "print(f\"96th percentile: {int(np.percentile(seq_lengths, 99))}\")\n",
        "print(f\"Median length: {int(np.median(seq_lengths))}\")"
      ],
      "metadata": {
        "colab": {
          "base_uri": "https://localhost:8080/",
          "height": 616
        },
        "id": "G7TjQ6CtFnkf",
        "outputId": "5e3fb89d-e208-4c75-8deb-401bb8aa4cbd"
      },
      "execution_count": 5,
      "outputs": [
        {
          "output_type": "display_data",
          "data": {
            "text/plain": [
              "<Figure size 1000x600 with 1 Axes>"
            ],
            "image/png": "[encoded data removed]"
          },
          "metadata": {}
        },
        {
          "output_type": "stream",
          "name": "stdout",
          "text": [
            "Max length: 478\n",
            "96th percentile: 153\n",
            "Median length: 37\n"
          ]
        }
      ]
    },
    {
      "cell_type": "code",
      "source": [
        "long_sentences = [s for s in sentences if len(s) > 153]\n",
        "print(f\"Sentences longer than 150 word: {len(long_sentences)} / {len(sentences)} sentences\")"
      ],
      "metadata": {
        "colab": {
          "base_uri": "https://localhost:8080/"
        },
        "id": "pAbqkaeWPeEH",
        "outputId": "c2c7e728-83bb-4d63-fc69-9d55bf092fe0"
      },
      "execution_count": 6,
      "outputs": [
        {
          "output_type": "stream",
          "name": "stdout",
          "text": [
            "Sentences longer than 150 word: 60 / 6075 sentences\n"
          ]
        }
      ]
    },
    {
      "cell_type": "markdown",
      "metadata": {
        "id": "8GGxOy79orSc"
      },
      "source": [
        "The next step is to load a BERT tokenizer to preprocess the `tokens` field:"
      ]
    },
    {
      "cell_type": "code",
      "execution_count": 7,
      "metadata": {
        "colab": {
          "base_uri": "https://localhost:8080/"
        },
        "id": "tZxn8lF4orSc",
        "outputId": "2198e065-26fe-498a-eacf-acd64ed480c0"
      },
      "outputs": [
        {
          "output_type": "stream",
          "name": "stderr",
          "text": [
            "/usr/local/lib/python3.11/dist-packages/huggingface_hub/utils/_auth.py:94: UserWarning: \n",
            "The secret `HF_TOKEN` does not exist in your Colab secrets.\n",
            "To authenticate with the Hugging Face Hub, create a token in your settings tab (https://huggingface.co/settings/tokens), set it as secret in your Google Colab and restart your session.\n",
            "You will be able to reuse this secret in all of your notebooks.\n",
            "Please note that authentication is recommended but still optional to access public models or datasets.\n",
            "  warnings.warn(\n"
          ]
        }
      ],
      "source": [
        "tokenizer = AutoTokenizer.from_pretrained(\"asafaya/bert-base-arabic\")"
      ]
    },
    {
      "cell_type": "markdown",
      "source": [
        "B: Build label mapping"
      ],
      "metadata": {
        "id": "E1eQwDCOQPak"
      }
    },
    {
      "cell_type": "code",
      "source": [
        "unique_labels = sorted(set(l for label_seq in labels for l in label_seq if l is not None))\n",
        "label2id = {label: i for i, label in enumerate(unique_labels)}\n",
        "id2label = {i: label for label, i in label2id.items()}\n",
        "num_labels = len(label2id)\n",
        "print(f\"Found {num_labels} unique labels.\")\n",
        "print(\"Label mapping:\", label2id)"
      ],
      "metadata": {
        "colab": {
          "base_uri": "https://localhost:8080/"
        },
        "id": "ZimjcPJ8Cia5",
        "outputId": "4a34e16f-c399-4ff6-c490-c2d0b6a657fb"
      },
      "execution_count": 8,
      "outputs": [
        {
          "output_type": "stream",
          "name": "stdout",
          "text": [
            "Found 17 unique labels.\n",
            "Label mapping: {'ADJ': 0, 'ADP': 1, 'ADV': 2, 'AUX': 3, 'CCONJ': 4, 'DET': 5, 'INTJ': 6, 'NOUN': 7, 'NUM': 8, 'PART': 9, 'PRON': 10, 'PROPN': 11, 'PUNCT': 12, 'SCONJ': 13, 'SYM': 14, 'VERB': 15, 'X': 16}\n"
          ]
        }
      ]
    },
    {
      "cell_type": "markdown",
      "source": [
        "C: Tokenize & align tokens with POS labels"
      ],
      "metadata": {
        "id": "uKIXFr3zQoUm"
      }
    },
    {
      "cell_type": "code",
      "source": [
        "def tokenize_and_align_labels(tokens, labels):\n",
        "    tokenized_inputs = tokenizer(\n",
        "        tokens,\n",
        "        is_split_into_words=True,\n",
        "        truncation=True,\n",
        "        padding='max_length',\n",
        "        max_length=153\n",
        "    )\n",
        "\n",
        "    word_ids = tokenized_inputs.word_ids()\n",
        "    aligned_labels = []\n",
        "    previous_word_idx = None\n",
        "\n",
        "    for word_idx in word_ids:\n",
        "        if word_idx is None:\n",
        "            aligned_labels.append(-100)\n",
        "        elif word_idx != previous_word_idx:\n",
        "            label = labels[word_idx]\n",
        "            aligned_labels.append(label2id.get(label, -100))\n",
        "        else:\n",
        "            aligned_labels.append(-100)\n",
        "        previous_word_idx = word_idx\n",
        "\n",
        "    tokenized_inputs['labels'] = aligned_labels\n",
        "    return tokenized_inputs\n"
      ],
      "metadata": {
        "id": "8wZqbZPqFZIA"
      },
      "execution_count": 9,
      "outputs": []
    },
    {
      "cell_type": "markdown",
      "source": [
        "\n",
        "\n",
        "---\n",
        "\n",
        "\n",
        "\n",
        "\n",
        "\n"
      ],
      "metadata": {
        "id": "1LKTMiNtS9RO"
      }
    },
    {
      "cell_type": "markdown",
      "metadata": {
        "id": "DEmka4TDorSd"
      },
      "source": [
        "To apply the preprocessing function over the entire dataset, use 🤗 Datasets [map]You can speed up the `map` function by setting `batched=True` to process multiple elements of the dataset at once:"
      ]
    },
    {
      "cell_type": "code",
      "execution_count": 10,
      "metadata": {
        "id": "n8lpz0AdorSd"
      },
      "outputs": [],
      "source": [
        "# Combine tokens and labels into a list of dicts\n",
        "data = [{'tokens': s, 'labels': l} for s, l in zip(sentences, labels)]\n",
        "\n",
        "# train: 80% , val: 10% , Test:10\n",
        "train_data, temp_data = train_test_split(data, test_size=0.2, random_state=88)\n",
        "val_data, test_data = train_test_split(temp_data, test_size=0.5, random_state=88)\n",
        "\n",
        "# Apply tokenization\n",
        "tokenized_train = [tokenize_and_align_labels(item['tokens'], item['labels']) for item in train_data]\n",
        "tokenized_val = [tokenize_and_align_labels(item['tokens'], item['labels']) for item in val_data]\n",
        "tokenized_test = [tokenize_and_align_labels(item['tokens'], item['labels']) for item in test_data]\n",
        "\n",
        "#Build Hugging Face DatasetDict\n",
        "dataset = DatasetDict({\n",
        "    'train': Dataset.from_list(tokenized_train),\n",
        "    'validation': Dataset.from_list(tokenized_val),\n",
        "    'test': Dataset.from_list(tokenized_test)\n",
        "})\n",
        "\n"
      ]
    },
    {
      "cell_type": "code",
      "source": [
        "data_collator = DataCollatorForTokenClassification(tokenizer)"
      ],
      "metadata": {
        "id": "_CZ566aNI37Q"
      },
      "execution_count": 11,
      "outputs": []
    },
    {
      "cell_type": "markdown",
      "metadata": {
        "id": "bw8bwVN6orSe"
      },
      "source": [
        "## Evaluate"
      ]
    },
    {
      "cell_type": "markdown",
      "metadata": {
        "id": "y6pIQPKEorSe"
      },
      "source": [
        "Including a metric during training is often helpful for evaluating your model's performance. You can quickly load a evaluation method with the 🤗 [Evaluate] ,  Seqeval actually produces several scores: precision, recall, F1, and accuracy."
      ]
    },
    {
      "cell_type": "code",
      "execution_count": 12,
      "metadata": {
        "id": "8XbHOthworSe"
      },
      "outputs": [],
      "source": [
        "seqeval = evaluate.load(\"seqeval\")"
      ]
    },
    {
      "cell_type": "markdown",
      "metadata": {
        "id": "pQ45gD7RorSe"
      },
      "source": [
        "Get the POS labels first, and then create a function that passes your true predictions and true labels to [compute] to calculate the scores:"
      ]
    },
    {
      "cell_type": "code",
      "source": [
        "unique_labels"
      ],
      "metadata": {
        "colab": {
          "base_uri": "https://localhost:8080/"
        },
        "id": "Y4YAYgLUK8TM",
        "outputId": "80da9932-de14-45de-dda9-fc68280b1d43"
      },
      "execution_count": 13,
      "outputs": [
        {
          "output_type": "execute_result",
          "data": {
            "text/plain": [
              "['ADJ',\n",
              " 'ADP',\n",
              " 'ADV',\n",
              " 'AUX',\n",
              " 'CCONJ',\n",
              " 'DET',\n",
              " 'INTJ',\n",
              " 'NOUN',\n",
              " 'NUM',\n",
              " 'PART',\n",
              " 'PRON',\n",
              " 'PROPN',\n",
              " 'PUNCT',\n",
              " 'SCONJ',\n",
              " 'SYM',\n",
              " 'VERB',\n",
              " 'X']"
            ]
          },
          "metadata": {},
          "execution_count": 13
        }
      ]
    },
    {
      "cell_type": "code",
      "execution_count": 14,
      "metadata": {
        "id": "zKgg_7ISorSe"
      },
      "outputs": [],
      "source": [
        "def compute_metrics(p):\n",
        "    predictions, labels = p\n",
        "    predictions = np.argmax(predictions, axis=2)\n",
        "\n",
        "    true_predictions = [\n",
        "        [unique_labels[p] for (p, l) in zip(prediction, label) if l != -100]\n",
        "        for prediction, label in zip(predictions, labels)\n",
        "    ]\n",
        "    true_labels = [\n",
        "        [unique_labels[l] for (p, l) in zip(prediction, label) if l != -100]\n",
        "        for prediction, label in zip(predictions, labels)\n",
        "    ]\n",
        "\n",
        "    results = seqeval.compute(predictions=true_predictions, references=true_labels)\n",
        "    return {\n",
        "        \"precision\": results[\"overall_precision\"],\n",
        "        \"recall\": results[\"overall_recall\"],\n",
        "        \"f1\": results[\"overall_f1\"],\n",
        "        \"accuracy\": results[\"overall_accuracy\"],\n",
        "    }"
      ]
    },
    {
      "cell_type": "markdown",
      "metadata": {
        "id": "D7yA_KX3orSe"
      },
      "source": [
        "Your `compute_metrics` function is ready to go now, and you'll return to it when you setup your training."
      ]
    },
    {
      "cell_type": "markdown",
      "metadata": {
        "id": "YPbAmkLdorSe"
      },
      "source": [
        "## Train"
      ]
    },
    {
      "cell_type": "code",
      "execution_count": 15,
      "metadata": {
        "id": "UZ5hzWtAorSe"
      },
      "outputs": [],
      "source": [
        "from transformers import create_optimizer\n",
        "\n",
        "batch_size = 16\n",
        "num_train_epochs = 3\n",
        "num_train_steps = (len(tokenized_train) // batch_size) * num_train_epochs\n",
        "optimizer, lr_schedule = create_optimizer(\n",
        "    init_lr=2e-5,\n",
        "    num_train_steps=num_train_steps,\n",
        "    weight_decay_rate=0.01,\n",
        "    num_warmup_steps=0,\n",
        ")"
      ]
    },
    {
      "cell_type": "markdown",
      "metadata": {
        "id": "BM92yrCQorSe"
      },
      "source": [
        "Then you can load BERT-base-arabic with [TFAutoModelForTokenClassification](https://huggingface.co/docs/transformers/main/en/model_doc/auto#transformers.TFAutoModelForTokenClassification) along with the number of expected labels, and the label mappings:"
      ]
    },
    {
      "cell_type": "code",
      "execution_count": 16,
      "metadata": {
        "colab": {
          "base_uri": "https://localhost:8080/"
        },
        "id": "IMdo7auPorSe",
        "outputId": "07ac318c-a0eb-43dc-9e62-d8eb9ca72cda"
      },
      "outputs": [
        {
          "output_type": "stream",
          "name": "stderr",
          "text": [
            "All PyTorch model weights were used when initializing TFBertForTokenClassification.\n",
            "\n",
            "Some weights or buffers of the TF 2.0 model TFBertForTokenClassification were not initialized from the PyTorch model and are newly initialized: ['classifier.weight', 'classifier.bias']\n",
            "You should probably TRAIN this model on a down-stream task to be able to use it for predictions and inference.\n"
          ]
        }
      ],
      "source": [
        "model = TFAutoModelForTokenClassification.from_pretrained(\n",
        "    \"asafaya/bert-base-arabic\",\n",
        "    num_labels=num_labels\n",
        ")\n",
        "\n",
        "model.config.id2label = id2label\n",
        "model.config.label2id = label2id\n"
      ]
    },
    {
      "cell_type": "markdown",
      "metadata": {
        "id": "4TdaKe3GorSe"
      },
      "source": [
        "Convert your datasets to the `tf.data.Dataset` format with [prepare_tf_dataset()](https://huggingface.co/docs/transformers/main/en/main_classes/model#transformers.TFPreTrainedModel.prepare_tf_dataset):"
      ]
    },
    {
      "cell_type": "code",
      "execution_count": 17,
      "metadata": {
        "id": "ifvNvC3QorSi"
      },
      "outputs": [],
      "source": [
        "tf_train_set = model.prepare_tf_dataset(\n",
        "    dataset['train'],\n",
        "    shuffle=True,\n",
        "    batch_size=16,\n",
        "    collate_fn=data_collator,\n",
        ")\n",
        "\n",
        "tf_validation_set = model.prepare_tf_dataset(\n",
        "    dataset['validation'],\n",
        "    shuffle=False,\n",
        "    batch_size=16,\n",
        "    collate_fn=data_collator,\n",
        ")\n",
        "tf_test_set = model.prepare_tf_dataset(\n",
        "    dataset['test'],\n",
        "    shuffle=False,\n",
        "    batch_size=16,\n",
        "    collate_fn=data_collator,\n",
        ")"
      ]
    },
    {
      "cell_type": "markdown",
      "metadata": {
        "id": "mA9tgmy2orSi"
      },
      "source": [
        "Configure the model for training with [`compile`](https://keras.io/api/models/model_training_apis/#compile-method). Note that Transformers models all have a default task-relevant loss function, so you don't need to specify one unless you want to:"
      ]
    },
    {
      "cell_type": "code",
      "execution_count": 18,
      "metadata": {
        "id": "8fSiIAz7orSi"
      },
      "outputs": [],
      "source": [
        "model.compile(optimizer=optimizer)  # No loss argument!"
      ]
    },
    {
      "cell_type": "markdown",
      "metadata": {
        "id": "FPKVqPpDorSi"
      },
      "source": [
        "Pass your `compute_metrics` function to [KerasMetricCallback](https://huggingface.co/docs/transformers/main/en/main_classes/keras_callbacks#transformers.KerasMetricCallback):"
      ]
    },
    {
      "cell_type": "code",
      "execution_count": 19,
      "metadata": {
        "id": "g9Bl2mmSorSi"
      },
      "outputs": [],
      "source": [
        "metric_callback = KerasMetricCallback(metric_fn=compute_metrics, eval_dataset=tf_validation_set)"
      ]
    },
    {
      "cell_type": "markdown",
      "metadata": {
        "id": "zmbL8ueVorSj"
      },
      "source": [
        "Finally, you're ready to start training your model! Call [`fit`](https://keras.io/api/models/model_training_apis/#fit-method) with your training and validation datasets, the number of epochs, and your callbacks to finetune the model:"
      ]
    },
    {
      "cell_type": "code",
      "execution_count": 20,
      "metadata": {
        "colab": {
          "base_uri": "https://localhost:8080/"
        },
        "id": "a5OJr-KWorSj",
        "outputId": "48824af3-95bf-4d61-8c95-575be3d5a048"
      },
      "outputs": [
        {
          "output_type": "stream",
          "name": "stdout",
          "text": [
            "Epoch 1/3\n",
            "303/303 [==============================] - ETA: 0s - loss: 0.3798"
          ]
        },
        {
          "output_type": "stream",
          "name": "stderr",
          "text": [
            "/usr/local/lib/python3.11/dist-packages/seqeval/metrics/sequence_labeling.py:171: UserWarning: CCONJ seems not to be NE tag.\n",
            "  warnings.warn('{} seems not to be NE tag.'.format(chunk))\n",
            "/usr/local/lib/python3.11/dist-packages/seqeval/metrics/sequence_labeling.py:171: UserWarning: PART seems not to be NE tag.\n",
            "  warnings.warn('{} seems not to be NE tag.'.format(chunk))\n",
            "/usr/local/lib/python3.11/dist-packages/seqeval/metrics/sequence_labeling.py:171: UserWarning: VERB seems not to be NE tag.\n",
            "  warnings.warn('{} seems not to be NE tag.'.format(chunk))\n",
            "/usr/local/lib/python3.11/dist-packages/seqeval/metrics/sequence_labeling.py:171: UserWarning: ADJ seems not to be NE tag.\n",
            "  warnings.warn('{} seems not to be NE tag.'.format(chunk))\n",
            "/usr/local/lib/python3.11/dist-packages/seqeval/metrics/sequence_labeling.py:171: UserWarning: ADP seems not to be NE tag.\n",
            "  warnings.warn('{} seems not to be NE tag.'.format(chunk))\n",
            "/usr/local/lib/python3.11/dist-packages/seqeval/metrics/sequence_labeling.py:171: UserWarning: NOUN seems not to be NE tag.\n",
            "  warnings.warn('{} seems not to be NE tag.'.format(chunk))\n",
            "/usr/local/lib/python3.11/dist-packages/seqeval/metrics/sequence_labeling.py:171: UserWarning: PUNCT seems not to be NE tag.\n",
            "  warnings.warn('{} seems not to be NE tag.'.format(chunk))\n",
            "/usr/local/lib/python3.11/dist-packages/seqeval/metrics/sequence_labeling.py:171: UserWarning: SCONJ seems not to be NE tag.\n",
            "  warnings.warn('{} seems not to be NE tag.'.format(chunk))\n",
            "/usr/local/lib/python3.11/dist-packages/seqeval/metrics/sequence_labeling.py:171: UserWarning: PRON seems not to be NE tag.\n",
            "  warnings.warn('{} seems not to be NE tag.'.format(chunk))\n",
            "/usr/local/lib/python3.11/dist-packages/seqeval/metrics/sequence_labeling.py:171: UserWarning: NUM seems not to be NE tag.\n",
            "  warnings.warn('{} seems not to be NE tag.'.format(chunk))\n",
            "/usr/local/lib/python3.11/dist-packages/seqeval/metrics/sequence_labeling.py:171: UserWarning: X seems not to be NE tag.\n",
            "  warnings.warn('{} seems not to be NE tag.'.format(chunk))\n",
            "/usr/local/lib/python3.11/dist-packages/seqeval/metrics/sequence_labeling.py:171: UserWarning: DET seems not to be NE tag.\n",
            "  warnings.warn('{} seems not to be NE tag.'.format(chunk))\n",
            "/usr/local/lib/python3.11/dist-packages/seqeval/metrics/sequence_labeling.py:171: UserWarning: AUX seems not to be NE tag.\n",
            "  warnings.warn('{} seems not to be NE tag.'.format(chunk))\n",
            "/usr/local/lib/python3.11/dist-packages/seqeval/metrics/sequence_labeling.py:171: UserWarning: SYM seems not to be NE tag.\n",
            "  warnings.warn('{} seems not to be NE tag.'.format(chunk))\n",
            "/usr/local/lib/python3.11/dist-packages/seqeval/metrics/sequence_labeling.py:171: UserWarning: ADV seems not to be NE tag.\n",
            "  warnings.warn('{} seems not to be NE tag.'.format(chunk))\n",
            "/usr/local/lib/python3.11/dist-packages/seqeval/metrics/sequence_labeling.py:171: UserWarning: PROPN seems not to be NE tag.\n",
            "  warnings.warn('{} seems not to be NE tag.'.format(chunk))\n",
            "/usr/local/lib/python3.11/dist-packages/seqeval/metrics/sequence_labeling.py:171: UserWarning: INTJ seems not to be NE tag.\n",
            "  warnings.warn('{} seems not to be NE tag.'.format(chunk))\n",
            "/usr/local/lib/python3.11/dist-packages/seqeval/metrics/v1.py:57: UndefinedMetricWarning: Precision and F-score are ill-defined and being set to 0.0 in labels with no predicted samples. Use `zero_division` parameter to control this behavior.\n",
            "  _warn_prf(average, modifier, msg_start, len(result))\n"
          ]
        },
        {
          "output_type": "stream",
          "name": "stdout",
          "text": [
            "\b\b\b\b\b\b\b\b\b\b\b\b\b\b\b\b\b\b\b\b\b\b\b\b\b\b\b\b\b\b\b\b\b\b\b\b\b\b\b\b\b\b\b\b\b\b\b\b\b\b\b\b\b\b\b\b\b\b\b\b\b\b\b\b\b\r303/303 [==============================] - 191s 567ms/step - loss: 0.3798 - val_loss: 0.1301 - precision: 0.9541 - recall: 0.9490 - f1: 0.9516 - accuracy: 0.9657\n",
            "Epoch 2/3\n",
            "303/303 [==============================] - 168s 553ms/step - loss: 0.1131 - val_loss: 0.1152 - precision: 0.9587 - recall: 0.9546 - f1: 0.9567 - accuracy: 0.9690\n",
            "Epoch 3/3\n",
            "303/303 [==============================] - 167s 551ms/step - loss: 0.0911 - val_loss: 0.1102 - precision: 0.9600 - recall: 0.9560 - f1: 0.9580 - accuracy: 0.9701\n"
          ]
        },
        {
          "output_type": "execute_result",
          "data": {
            "text/plain": [
              "<tf_keras.src.callbacks.History at 0x79c51c2230d0>"
            ]
          },
          "metadata": {},
          "execution_count": 20
        }
      ],
      "source": [
        "model.fit(x=tf_train_set, validation_data=tf_validation_set, epochs=3, callbacks=metric_callback)"
      ]
    },
    {
      "cell_type": "code",
      "source": [
        "from google.colab import drive\n",
        "drive.mount('/content/drive')"
      ],
      "metadata": {
        "id": "NtMNNTmKD6Gq",
        "outputId": "54af3da7-8d2a-4e85-8b89-53ff045ed33b",
        "colab": {
          "base_uri": "https://localhost:8080/",
          "height": 304
        }
      },
      "execution_count": 21,
      "outputs": [
        {
          "output_type": "error",
          "ename": "ValueError",
          "evalue": "mount failed",
          "traceback": [
            "\u001b[0;31m---------------------------------------------------------------------------\u001b[0m",
            "\u001b[0;31mValueError\u001b[0m                                Traceback (most recent call last)",
            "\u001b[0;32m<ipython-input-21-d5df0069828e>\u001b[0m in \u001b[0;36m<cell line: 0>\u001b[0;34m()\u001b[0m\n\u001b[1;32m      1\u001b[0m \u001b[0;32mfrom\u001b[0m \u001b[0mgoogle\u001b[0m\u001b[0;34m.\u001b[0m\u001b[0mcolab\u001b[0m \u001b[0;32mimport\u001b[0m \u001b[0mdrive\u001b[0m\u001b[0;34m\u001b[0m\u001b[0;34m\u001b[0m\u001b[0m\n\u001b[0;32m----> 2\u001b[0;31m \u001b[0mdrive\u001b[0m\u001b[0;34m.\u001b[0m\u001b[0mmount\u001b[0m\u001b[0;34m(\u001b[0m\u001b[0;34m'/content/drive'\u001b[0m\u001b[0;34m)\u001b[0m\u001b[0;34m\u001b[0m\u001b[0;34m\u001b[0m\u001b[0m\n\u001b[0m",
            "\u001b[0;32m/usr/local/lib/python3.11/dist-packages/google/colab/drive.py\u001b[0m in \u001b[0;36mmount\u001b[0;34m(mountpoint, force_remount, timeout_ms, readonly)\u001b[0m\n\u001b[1;32m     98\u001b[0m \u001b[0;32mdef\u001b[0m \u001b[0mmount\u001b[0m\u001b[0;34m(\u001b[0m\u001b[0mmountpoint\u001b[0m\u001b[0;34m,\u001b[0m \u001b[0mforce_remount\u001b[0m\u001b[0;34m=\u001b[0m\u001b[0;32mFalse\u001b[0m\u001b[0;34m,\u001b[0m \u001b[0mtimeout_ms\u001b[0m\u001b[0;34m=\u001b[0m\u001b[0;36m120000\u001b[0m\u001b[0;34m,\u001b[0m \u001b[0mreadonly\u001b[0m\u001b[0;34m=\u001b[0m\u001b[0;32mFalse\u001b[0m\u001b[0;34m)\u001b[0m\u001b[0;34m:\u001b[0m\u001b[0;34m\u001b[0m\u001b[0;34m\u001b[0m\u001b[0m\n\u001b[1;32m     99\u001b[0m   \u001b[0;34m\"\"\"Mount your Google Drive at the specified mountpoint path.\"\"\"\u001b[0m\u001b[0;34m\u001b[0m\u001b[0;34m\u001b[0m\u001b[0m\n\u001b[0;32m--> 100\u001b[0;31m   return _mount(\n\u001b[0m\u001b[1;32m    101\u001b[0m       \u001b[0mmountpoint\u001b[0m\u001b[0;34m,\u001b[0m\u001b[0;34m\u001b[0m\u001b[0;34m\u001b[0m\u001b[0m\n\u001b[1;32m    102\u001b[0m       \u001b[0mforce_remount\u001b[0m\u001b[0;34m=\u001b[0m\u001b[0mforce_remount\u001b[0m\u001b[0;34m,\u001b[0m\u001b[0;34m\u001b[0m\u001b[0;34m\u001b[0m\u001b[0m\n",
            "\u001b[0;32m/usr/local/lib/python3.11/dist-packages/google/colab/drive.py\u001b[0m in \u001b[0;36m_mount\u001b[0;34m(mountpoint, force_remount, timeout_ms, ephemeral, readonly)\u001b[0m\n\u001b[1;32m    277\u001b[0m             \u001b[0;34m'https://research.google.com/colaboratory/faq.html#drive-timeout'\u001b[0m\u001b[0;34m\u001b[0m\u001b[0;34m\u001b[0m\u001b[0m\n\u001b[1;32m    278\u001b[0m         )\n\u001b[0;32m--> 279\u001b[0;31m       \u001b[0;32mraise\u001b[0m \u001b[0mValueError\u001b[0m\u001b[0;34m(\u001b[0m\u001b[0;34m'mount failed'\u001b[0m \u001b[0;34m+\u001b[0m \u001b[0mextra_reason\u001b[0m\u001b[0;34m)\u001b[0m\u001b[0;34m\u001b[0m\u001b[0;34m\u001b[0m\u001b[0m\n\u001b[0m\u001b[1;32m    280\u001b[0m     \u001b[0;32melif\u001b[0m \u001b[0mcase\u001b[0m \u001b[0;34m==\u001b[0m \u001b[0;36m4\u001b[0m\u001b[0;34m:\u001b[0m\u001b[0;34m\u001b[0m\u001b[0;34m\u001b[0m\u001b[0m\n\u001b[1;32m    281\u001b[0m       \u001b[0;31m# Terminate the DriveFS binary before killing bash.\u001b[0m\u001b[0;34m\u001b[0m\u001b[0;34m\u001b[0m\u001b[0m\n",
            "\u001b[0;31mValueError\u001b[0m: mount failed"
          ]
        }
      ]
    },
    {
      "cell_type": "markdown",
      "metadata": {
        "id": "qejYuluOorSj"
      },
      "source": [
        "## Inference"
      ]
    },
    {
      "cell_type": "markdown",
      "metadata": {
        "id": "LMUT49Y0orSj"
      },
      "source": [
        "Great, now that you've finetuned a model, you can use it for inference!\n",
        "\n",
        "Grab some text you'd like to run inference on:"
      ]
    },
    {
      "cell_type": "code",
      "source": [
        "model.save_pretrained(\"my-arabic-pos-model\")\n",
        "tokenizer.save_pretrained(\"my-arabic-pos-model\")\n"
      ],
      "metadata": {
        "colab": {
          "base_uri": "https://localhost:8080/"
        },
        "id": "GnudhZ4z0kad",
        "outputId": "fc0b26c1-b27d-4ba5-f672-f08493145951"
      },
      "execution_count": 22,
      "outputs": [
        {
          "output_type": "execute_result",
          "data": {
            "text/plain": [
              "('my-arabic-pos-model/tokenizer_config.json',\n",
              " 'my-arabic-pos-model/special_tokens_map.json',\n",
              " 'my-arabic-pos-model/vocab.txt',\n",
              " 'my-arabic-pos-model/added_tokens.json',\n",
              " 'my-arabic-pos-model/tokenizer.json')"
            ]
          },
          "metadata": {},
          "execution_count": 22
        }
      ]
    },
    {
      "cell_type": "code",
      "source": [
        "!zip -r my-arabic-pos-model.zip my-arabic-pos-model\n"
      ],
      "metadata": {
        "id": "msRSIWaotP19",
        "outputId": "fd294510-a519-4a2d-8944-c82f82f5c24b",
        "colab": {
          "base_uri": "https://localhost:8080/"
        }
      },
      "execution_count": 27,
      "outputs": [
        {
          "output_type": "stream",
          "name": "stdout",
          "text": [
            "  adding: my-arabic-pos-model/ (stored 0%)\n",
            "  adding: my-arabic-pos-model/config.json (deflated 54%)\n",
            "  adding: my-arabic-pos-model/vocab.txt (deflated 63%)\n",
            "  adding: my-arabic-pos-model/special_tokens_map.json (deflated 42%)\n",
            "  adding: my-arabic-pos-model/tokenizer.json (deflated 73%)\n",
            "  adding: my-arabic-pos-model/tokenizer_config.json (deflated 74%)\n",
            "  adding: my-arabic-pos-model/tf_model.h5 (deflated 7%)\n"
          ]
        }
      ]
    },
    {
      "cell_type": "code",
      "source": [
        "from google.colab import files\n",
        "files.download(\"my-arabic-pos-model.zip\")"
      ],
      "metadata": {
        "id": "anTW8gPhtjww",
        "outputId": "671b5721-a1af-47a2-e77a-0abe10a10ae2",
        "colab": {
          "base_uri": "https://localhost:8080/",
          "height": 17
        }
      },
      "execution_count": 28,
      "outputs": [
        {
          "output_type": "display_data",
          "data": {
            "text/plain": [
              "<IPython.core.display.Javascript object>"
            ],
            "application/javascript": [
              "\n",
              "    async function download(id, filename, size) {\n",
              "      if (!google.colab.kernel.accessAllowed) {\n",
              "        return;\n",
              "      }\n",
              "      const div = document.createElement('div');\n",
              "      const label = document.createElement('label');\n",
              "      label.textContent = `Downloading \"${filename}\": `;\n",
              "      div.appendChild(label);\n",
              "      const progress = document.createElement('progress');\n",
              "      progress.max = size;\n",
              "      div.appendChild(progress);\n",
              "      document.body.appendChild(div);\n",
              "\n",
              "      const buffers = [];\n",
              "      let downloaded = 0;\n",
              "\n",
              "      const channel = await google.colab.kernel.comms.open(id);\n",
              "      // Send a message to notify the kernel that we're ready.\n",
              "      channel.send({})\n",
              "\n",
              "      for await (const message of channel.messages) {\n",
              "        // Send a message to notify the kernel that we're ready.\n",
              "        channel.send({})\n",
              "        if (message.buffers) {\n",
              "          for (const buffer of message.buffers) {\n",
              "            buffers.push(buffer);\n",
              "            downloaded += buffer.byteLength;\n",
              "            progress.value = downloaded;\n",
              "          }\n",
              "        }\n",
              "      }\n",
              "      const blob = new Blob(buffers, {type: 'application/binary'});\n",
              "      const a = document.createElement('a');\n",
              "      a.href = window.URL.createObjectURL(blob);\n",
              "      a.download = filename;\n",
              "      div.appendChild(a);\n",
              "      a.click();\n",
              "      div.remove();\n",
              "    }\n",
              "  "
            ]
          },
          "metadata": {}
        },
        {
          "output_type": "display_data",
          "data": {
            "text/plain": [
              "<IPython.core.display.Javascript object>"
            ],
            "application/javascript": [
              "download(\"download_790690ab-772f-454b-a600-52e522e7613b\", \"my-arabic-pos-model.zip\", 408228912)"
            ]
          },
          "metadata": {}
        }
      ]
    },
    {
      "cell_type": "code",
      "source": [
        "id2label = {\n",
        "    0: 'ADJ', 1: 'ADP', 2: 'ADV', 3: 'AUX', 4: 'CCONJ',\n",
        "    5: 'DET', 6: 'INTJ', 7: 'NOUN', 8: 'NUM', 9: 'PART',\n",
        "    10: 'PRON', 11: 'PROPN', 12: 'PUNCT', 13: 'SCONJ',\n",
        "    14: 'SYM', 15: 'VERB', 16: 'X'\n",
        "}\n",
        "label2id = {v: k for k, v in id2label.items()}"
      ],
      "metadata": {
        "id": "p9_KDKgzcBYA"
      },
      "execution_count": 23,
      "outputs": []
    },
    {
      "cell_type": "markdown",
      "source": [
        "Arabic Label Mapping"
      ],
      "metadata": {
        "id": "LuHYEurW9nlX"
      }
    },
    {
      "cell_type": "code",
      "source": [
        "label_mapping = {\n",
        "    'ADJ': 'صفة',\n",
        "    'ADP': 'حرف جر',\n",
        "    'ADV': 'ظرف',\n",
        "    'AUX': 'فعل مساعد',\n",
        "    'CCONJ': 'أداة ربط',\n",
        "    'DET': 'أداة تعريف',\n",
        "    'INTJ': 'تعجب',\n",
        "    'NOUN': 'اسم',\n",
        "    'NUM': 'عدد',\n",
        "    'PART': 'أداة',\n",
        "    'PRON': 'ضمير',\n",
        "    'PROPN': 'اسم علم',\n",
        "    'PUNCT': 'علامة ترقيم',\n",
        "    'SCONJ': 'أداة ربط',\n",
        "    'SYM': 'رمز',\n",
        "    'VERB': 'فعل',\n",
        "    'X': 'مجهول'\n",
        "}\n"
      ],
      "metadata": {
        "id": "JqyHQ3fr6_dK"
      },
      "execution_count": 24,
      "outputs": []
    },
    {
      "cell_type": "markdown",
      "metadata": {
        "id": "mdRY1VLtorSj"
      },
      "source": [
        "Get the class with the highest probability, and use the model's `id2label` mapping to convert it to a text label:"
      ]
    },
    {
      "cell_type": "markdown",
      "source": [
        "### Function to predict the POS of each token"
      ],
      "metadata": {
        "id": "IaptdFrn0__c"
      }
    },
    {
      "cell_type": "code",
      "execution_count": 25,
      "metadata": {
        "id": "EY5XZC4lorSj"
      },
      "outputs": [],
      "source": [
        "def predict_pos(text, model_path):\n",
        "    # Load tokenizer + fine-tuned model\n",
        "    tokenizer = AutoTokenizer.from_pretrained(model_path)\n",
        "    model = TFAutoModelForTokenClassification.from_pretrained(model_path)\n",
        "\n",
        "    inputs = tokenizer(text, return_tensors=\"tf\", truncation=True, is_split_into_words=False)\n",
        "    # Get model outputs\n",
        "    outputs = model(**inputs)\n",
        "    logits = outputs.logits\n",
        "    predicted_token_class_ids = tf.math.argmax(logits, axis=-1)[0].numpy()\n",
        "    # Convert token IDs back to tokens\n",
        "    tokens = tokenizer.convert_ids_to_tokens(inputs['input_ids'][0])\n",
        "\n",
        "    # Build result list with Arabic labels and handle subwords\n",
        "    results = []\n",
        "    current_word = ''\n",
        "    current_label = None\n",
        "    for token, pred_id in zip(tokens, predicted_token_class_ids):\n",
        "        if token in ['[CLS]', '[SEP]', '[PAD]']:\n",
        "            continue\n",
        "\n",
        "        if token.startswith('##'):\n",
        "            # If it's a subword token, append to the current word\n",
        "            current_word += token[2:]  # Remove the '##' part\n",
        "        else:\n",
        "            # If it's a new word, finalize the current word (if any)\n",
        "            if current_word:\n",
        "                # Append the previous word and its label\n",
        "                results.append((current_word, model.config.id2label[current_label]))\n",
        "            # Start a new word\n",
        "            current_word = token\n",
        "            current_label = pred_id\n",
        "\n",
        "    # Add the last word (if any)\n",
        "    if current_word:\n",
        "        results.append((current_word, model.config.id2label[current_label]))\n",
        "\n",
        "    # Convert the English labels to Arabic labels\n",
        "    results_with_arabic_labels = [(word, label_mapping.get(label, label)) for word, label in results]\n",
        "\n",
        "    return results_with_arabic_labels\n"
      ]
    },
    {
      "cell_type": "code",
      "source": [
        "text = \"أنا ذهبت الي المنزل الساعة الثالثة و تناولت الغداء و احتسيت العصير ثم ذهبت الي النوم\"\n",
        "\n",
        "predictions = predict_pos(text, \"my-arabic-pos-model\")\n",
        "\n",
        "for word, label in predictions:\n",
        "    print(f\"{word} → {label}\")\n"
      ],
      "metadata": {
        "colab": {
          "base_uri": "https://localhost:8080/"
        },
        "id": "hxsg43WI0zfA",
        "outputId": "abb6fe02-3d7f-4e01-c812-fd561a30a99e"
      },
      "execution_count": 26,
      "outputs": [
        {
          "output_type": "stream",
          "name": "stderr",
          "text": [
            "Some layers from the model checkpoint at my-arabic-pos-model were not used when initializing TFBertForTokenClassification: ['dropout_37']\n",
            "- This IS expected if you are initializing TFBertForTokenClassification from the checkpoint of a model trained on another task or with another architecture (e.g. initializing a BertForSequenceClassification model from a BertForPreTraining model).\n",
            "- This IS NOT expected if you are initializing TFBertForTokenClassification from the checkpoint of a model that you expect to be exactly identical (initializing a BertForSequenceClassification model from a BertForSequenceClassification model).\n",
            "All the layers of TFBertForTokenClassification were initialized from the model checkpoint at my-arabic-pos-model.\n",
            "If your task is similar to the task the model of the checkpoint was trained on, you can already use TFBertForTokenClassification for predictions without further training.\n",
            "Asking to truncate to max_length but no maximum length is provided and the model has no predefined maximum length. Default to no truncation.\n"
          ]
        },
        {
          "output_type": "stream",
          "name": "stdout",
          "text": [
            "انا → مجهول\n",
            "ذهبت → فعل\n",
            "الي → حرف جر\n",
            "المنزل → اسم\n",
            "الساعة → اسم\n",
            "الثالثة → صفة\n",
            "و → أداة ربط\n",
            "تناولت → فعل\n",
            "الغداء → اسم\n",
            "و → أداة ربط\n",
            "احتسيت → فعل\n",
            "العصير → اسم\n",
            "ثم → أداة ربط\n",
            "ذهبت → فعل\n",
            "الي → حرف جر\n",
            "النوم → اسم\n"
          ]
        }
      ]
    }
  ],
  "metadata": {
    "colab": {
      "provenance": [],
      "gpuType": "T4"
    },
    "language_info": {
      "name": "python"
    },
    "kernelspec": {
      "name": "python3",
      "display_name": "Python 3"
    },
    "accelerator": "GPU"
  },
  "nbformat": 4,
  "nbformat_minor": 0
}